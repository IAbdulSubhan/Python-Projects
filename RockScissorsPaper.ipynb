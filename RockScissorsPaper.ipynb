{
 "cells": [
  {
   "cell_type": "markdown",
   "id": "f42d55b6",
   "metadata": {},
   "source": [
    "# Playing Rock-Scissors-Paper With system"
   ]
  },
  {
   "cell_type": "code",
   "execution_count": 13,
   "id": "c0942cf2",
   "metadata": {
    "scrolled": true
   },
   "outputs": [],
   "source": [
    "import random\n",
    "\n"
   ]
  },
  {
   "cell_type": "code",
   "execution_count": 14,
   "id": "4de836e5",
   "metadata": {},
   "outputs": [],
   "source": [
    "def get_user_choice():\n",
    "    user_choice = input(\"Enter Rock, Paper, or Scissors: \")\n",
    "    return user_choice.lower()\n",
    "\n"
   ]
  },
  {
   "cell_type": "code",
   "execution_count": 15,
   "id": "4fe9eaca",
   "metadata": {},
   "outputs": [],
   "source": [
    "def get_computer_choice():\n",
    "    choices = ['rock', 'paper', 'scissors']\n",
    "    return random.choice(choices)\n",
    "\n"
   ]
  },
  {
   "cell_type": "code",
   "execution_count": 16,
   "id": "113c2914",
   "metadata": {},
   "outputs": [],
   "source": [
    "def determine_winner(user_choice, computer_choice):\n",
    "    if user_choice == computer_choice:\n",
    "        return \"It's a tie!\"\n",
    "    elif (\n",
    "        (user_choice == 'rock' and computer_choice == 'scissors') or\n",
    "        (user_choice == 'paper' and computer_choice == 'rock') or\n",
    "        (user_choice == 'scissors' and computer_choice == 'paper')\n",
    "    ):\n",
    "        return \"You win!\"\n",
    "    else:\n",
    "        return \"You lose!\"\n"
   ]
  },
  {
   "cell_type": "code",
   "execution_count": null,
   "id": "774b1062",
   "metadata": {},
   "outputs": [
    {
     "name": "stdout",
     "output_type": "stream",
     "text": [
      "Welcome to Rock-Paper-Scissors!\n"
     ]
    }
   ],
   "source": [
    "\n",
    "def rock_paper_scissors():\n",
    "    print(\"Welcome to Rock-Paper-Scissors!\")\n",
    "    \n",
    "    while True:\n",
    "        user_choice = get_user_choice()\n",
    "        \n",
    "        if user_choice not in ['rock', 'paper', 'scissors']:\n",
    "            print(\"Invalid choice. Please enter Rock, Paper, or Scissors.\")\n",
    "            continue\n",
    "\n",
    "        computer_choice = get_computer_choice()\n",
    "\n",
    "        print(f\"You chose {user_choice.capitalize()}.\")\n",
    "        print(f\"The computer chose {computer_choice.capitalize()}.\")\n",
    "\n",
    "        result = determine_winner(user_choice, computer_choice)\n",
    "        print(result)\n",
    "\n",
    "        while True:\n",
    "            play_again = input(\"Do you want to play again? (yes/no): \")\n",
    "            if play_again.lower() not in ['yes', 'no']:\n",
    "                print(\"Invalid Choice. Please enter yes or no.\")\n",
    "            elif play_again.lower() == 'yes':\n",
    "                break\n",
    "            elif play_again.lower() == 'no':\n",
    "                print(\"Thanks for playing. Goodbye!\")\n",
    "                return  # This will exit the entire function, and therefore the outer loop\n",
    "\n",
    "if __name__ == \"__main__\":\n",
    "    rock_paper_scissors()\n"
   ]
  },
  {
   "cell_type": "code",
   "execution_count": null,
   "id": "5bd2ad15",
   "metadata": {},
   "outputs": [],
   "source": []
  }
 ],
 "metadata": {
  "kernelspec": {
   "display_name": "Python 3 (ipykernel)",
   "language": "python",
   "name": "python3"
  },
  "language_info": {
   "codemirror_mode": {
    "name": "ipython",
    "version": 3
   },
   "file_extension": ".py",
   "mimetype": "text/x-python",
   "name": "python",
   "nbconvert_exporter": "python",
   "pygments_lexer": "ipython3",
   "version": "3.11.2"
  }
 },
 "nbformat": 4,
 "nbformat_minor": 5
}
